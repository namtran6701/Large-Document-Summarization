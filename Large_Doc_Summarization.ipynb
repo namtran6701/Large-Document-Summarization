{
 "cells": [
  {
   "cell_type": "markdown",
   "metadata": {},
   "source": [
    "# Text Summarization of Large Documents using LangChain 🦜🔗\n",
    "\n"
   ]
  },
  {
   "cell_type": "code",
   "execution_count": 2,
   "metadata": {},
   "outputs": [],
   "source": [
    "# !pip install --upgrade pytesseract pypdf PyPDF2 textract langchain transformers --quiet"
   ]
  },
  {
   "cell_type": "markdown",
   "metadata": {},
   "source": [
    "This notebook is inspired by this Google Notebook: https://github.com/GoogleCloudPlatform/generative-ai/blob/main/language/use-cases/document-summarization/summarization_large_documents_langchain.ipynb "
   ]
  },
  {
   "cell_type": "markdown",
   "metadata": {},
   "source": [
    "**Key difference:**\n",
    "\n",
    "- Utilize openai models instead. \n",
    "\n",
    "- Centralize all sub summarizations and summarize them all together. \n",
    "\n",
    "- Using document intelligence to extract text from document instead of open-source solutions"
   ]
  },
  {
   "cell_type": "markdown",
   "metadata": {},
   "source": [
    "**Objective**:  \n",
    "- This notebook demonstrates a method to summarize large documents using the Refine approach from LangChain.\n",
    "- We will focus on implementing and optimizing this specific summarization technique.\n",
    "- Our goal is to efficiently process and summarize the content of a substantial PDF document.\n"
   ]
  },
  {
   "cell_type": "code",
   "execution_count": 3,
   "metadata": {},
   "outputs": [],
   "source": [
    "\n",
    "# Standard library imports\n",
    "import os\n",
    "import urllib\n",
    "import warnings\n",
    "from pathlib import Path as p\n",
    "\n",
    "# Third-party imports\n",
    "import pandas as pd\n",
    "from dotenv import load_dotenv\n",
    "\n",
    "# LangChain imports\n",
    "from langchain import PromptTemplate\n",
    "from langchain.chains.summarize import load_summarize_chain\n",
    "from langchain.document_loaders import PyPDFLoader\n",
    "from langchain_openai import AzureChatOpenAI\n",
    "\n",
    "# Load environment variables\n",
    "load_dotenv()\n",
    "\n",
    "# Suppress warnings\n",
    "warnings.filterwarnings(\"ignore\")"
   ]
  },
  {
   "cell_type": "code",
   "execution_count": 4,
   "metadata": {},
   "outputs": [],
   "source": [
    "# Initialize the Azure OpenAI model\n",
    "llm = AzureChatOpenAI(\n",
    "    azure_deployment=\"gpt-4o-mini\",  # The deployment name of the model in Azure\n",
    "    temperature=0.3,                 # Controls randomness in the output (0.0 to 1.0)\n",
    "    api_version=os.environ['AZURE_OPENAI_API_VERSION'],  # API version from environment variable\n",
    "    model_name='gpt-4o-mini'         # The name of the model being used\n",
    ")"
   ]
  },
  {
   "cell_type": "markdown",
   "metadata": {},
   "source": [
    "# Large Document Summarization"
   ]
  },
  {
   "cell_type": "markdown",
   "metadata": {},
   "source": [
    "## Preparing data files"
   ]
  },
  {
   "cell_type": "markdown",
   "metadata": {},
   "source": [
    "Here we will load a Home Depot Annual Report, which is a substantial document. \n",
    "Documents of this size can be challenging for LLMs to summarize comprehensively.\n",
    "We'll use this to demonstrate advanced summarization techniques."
   ]
  },
  {
   "cell_type": "code",
   "execution_count": 5,
   "metadata": {},
   "outputs": [],
   "source": [
    "# # data_folder = p.cwd() / \"data\"\n",
    "# # p(data_folder).mkdir(parents=True, exist_ok=True)\n",
    "# pdf_url = \"https://services.google.com/fh/files/misc/practitioners_guide_to_mlops_whitepaper.pdf\"\n",
    "# pdf_file = str(p(data_folder, pdf_url.split(\"/\")[-1]))\n",
    "\n",
    "# urllib.request.urlretrieve(pdf_url, pdf_file)"
   ]
  },
  {
   "cell_type": "markdown",
   "metadata": {},
   "source": [
    "Here we use an `PdfReader` to extract then text from our scanned documents"
   ]
  },
  {
   "cell_type": "code",
   "execution_count": 6,
   "metadata": {},
   "outputs": [
    {
     "name": "stdout",
     "output_type": "stream",
     "text": [
      "Fiscal 2023: A Year of Moderation\n",
      "Fiscal 2023 was a year of moderation after three years of unprecedented growth in the home improvement market.  \n",
      "It was also a year of opportunity. We focused on several operational improvements to strengthen the business, while \n",
      "also staying true to the growth opportunities detailed at our Investor and Analyst conference in June of 2023.\n",
      "During /f_iscal 2023, total sales declined 3.0 percent to $152.7 billion, compared to /f_iscal 2022. Fiscal 2023  \n",
      "comparable sales declined 3.2 percent for the total Company and 3.5 percent in the U.S. Our /f_iscal 2023 net  \n",
      "earnings were $15.1 billion, and earnings per diluted share decreased 9.5 percent to $15.11.\n",
      "Focused on Strategic Objectives\n",
      "Over the last several years, we have successfully managed through a dynamic macroeconomic environment,  \n",
      "including in/f_lation and disin/f_lation, higher interest rates, and shifts in consumer spending. Throughout this time, our \n",
      "strategic priorities have remained the same: deliver the best customer experience in home improvement, develop \n",
      "differentiated capabilities, and extend our low-cost provider position. Our objectives to grow market share and \n",
      "deliver exceptional shareholder value also remain unchanged. Fiscal 2023 marked another year of important progress \n",
      "in support of these priorities and objectives.\n",
      "We are focused on the execution of our strategies to continue to remove friction from the interconnected experience, \n",
      "enhance the Pro experience through our ecosystem of capabilities, and grow our store footprint.\n",
      "Our customers navigate the physical and digital worlds in a truly interconnected way, and for us it is all about  \n",
      "delivering the best shopping experience regardless of how they choose to shop with us. In the last few years, we \n",
      "have enhanced our digital in-store navigation in our Home Depot app through our store mode feature, transformed \n",
      "the front end of stores to enable our customers to get in and out of our stores faster, and transitioned 100% of our \n",
      "appliance delivery to our new market delivery network, which has led to signi/f_icant improvements in customer \n",
      "satisfaction. While we have made tremendous progress in removing friction, we are not done. We will continue to \n",
      "invest to meet our customers when, where, and how they want to shop with us.\n",
      "We have made signi/f_icant progress developing our Pro ecosystem, from building out additional ful/f_illment modes, to \n",
      "a robust sales organization and digital platform speci/f_ically geared at our Pro customers’ needs. We will continue \n",
      "investing to drive a best in-class experience to support our Pros for all of their project needs, including a new trade \n",
      "credit offering and an order management system designed to support the planning and execution of a complex \n",
      "project. Additionally, we completed the acquisition of Construction Resources in /f_iscal 2023. With showrooms across \n",
      "the East Coast and Southeast, Construction Resources will provide another avenue through which we can effectively \n",
      "sell aesthetic products to our Pro customers who are executing complex projects.\n",
      "The capabilities we are building to better serve more complex Pro project needs also help improve the experience for \n",
      "Pros shopping in our stores. More Pro jobsite deliveries ful/f_illed through our distribution centers mean less  \n",
      "congestion in our aisles and more product on hand to satisfy the need of our in-store Pro customers.\n"
     ]
    }
   ],
   "source": [
    "# extract text from the pdf\n",
    "\n",
    "pdf_loader = PyPDFLoader('hd_annual_report.pdf')\n",
    "\n",
    "pages = pdf_loader.load_and_split()\n",
    "\n",
    "print(pages[1].page_content)\n"
   ]
  },
  {
   "cell_type": "markdown",
   "metadata": {},
   "source": [
    "## Method: Refine"
   ]
  },
  {
   "cell_type": "markdown",
   "metadata": {},
   "source": [
    "The Refine method is an alternative method to deal with large document summarization. It works by first running an initial prompt on a small chunk of data, generating some output. Then for each subsequent document, the output from the previous document is passed in a long with the new document, and the LLM is asked to refine the output based on the new document. \n",
    "\n",
    "In LangChain, you can use `RefineDocumentsChain` as part of the load_summarize_chain method. What you need to do is setting `refine` as `chain_type` of your chain"
   ]
  },
  {
   "cell_type": "markdown",
   "metadata": {},
   "source": [
    "### Prompt design with `Refine` Chain"
   ]
  },
  {
   "cell_type": "markdown",
   "metadata": {},
   "source": [
    "With LangChain, the `refine` chain requires 2 prompts"
   ]
  },
  {
   "cell_type": "markdown",
   "metadata": {},
   "source": [
    "The question prompt to generate hte output for subsequent taks. The refine prompt to refine the output based on the generated content. \n"
   ]
  },
  {
   "cell_type": "code",
   "execution_count": 7,
   "metadata": {},
   "outputs": [],
   "source": [
    "\n",
    "question_prompt_template = \"\"\"\n",
    "                  Please provide a summary of the following text.\n",
    "                  TEXT: {text}\n",
    "                  SUMMARY:\n",
    "                  \"\"\"\n",
    "\n",
    "question_prompt = PromptTemplate(\n",
    "    template=question_prompt_template, input_variables=[\"text\"]\n",
    ")\n",
    "\n",
    "refine_prompt_template = \"\"\"\n",
    "              Write a concise summary of the following text delimited by triple backquotes.\n",
    "              Return your response in bullet points which covers the key points of the text.\n",
    "              ```{text}```\n",
    "              BULLET POINT SUMMARY:\n",
    "              \"\"\"\n",
    "\n",
    "refine_prompt = PromptTemplate(\n",
    "    template=refine_prompt_template, input_variables=[\"text\"]\n",
    ")"
   ]
  },
  {
   "cell_type": "markdown",
   "metadata": {},
   "source": [
    "## Generate Summaries"
   ]
  },
  {
   "cell_type": "markdown",
   "metadata": {},
   "source": [
    "After you define prompts, you initiate a summarization chain using `refine` chain type."
   ]
  },
  {
   "cell_type": "code",
   "execution_count": 8,
   "metadata": {},
   "outputs": [],
   "source": [
    "refine_chain = load_summarize_chain(\n",
    "    llm,\n",
    "    chain_type=\"refine\",\n",
    "    question_prompt=question_prompt,\n",
    "    refine_prompt=refine_prompt,\n",
    "    return_intermediate_steps=True,\n",
    ")"
   ]
  },
  {
   "cell_type": "markdown",
   "metadata": {},
   "source": [
    "Then, you use the summarization chain to summarize document using Refine method"
   ]
  },
  {
   "cell_type": "code",
   "execution_count": 9,
   "metadata": {},
   "outputs": [],
   "source": [
    "refine_outputs = refine_chain({'input_documents': pages})"
   ]
  },
  {
   "cell_type": "code",
   "execution_count": 10,
   "metadata": {},
   "outputs": [],
   "source": [
    "final_refine_data = []\n",
    "for doc, out in zip(\n",
    "    refine_outputs[\"input_documents\"], refine_outputs[\"intermediate_steps\"]\n",
    "):\n",
    "    output = {}\n",
    "    output[\"file_name\"] = p(doc.metadata[\"source\"]).stem\n",
    "    output[\"file_type\"] = p(doc.metadata[\"source\"]).suffix\n",
    "    output[\"page_number\"] = doc.metadata[\"page\"]\n",
    "    output[\"chunks\"] = doc.page_content\n",
    "    output[\"concise_summary\"] = out\n",
    "    final_refine_data.append(output)"
   ]
  },
  {
   "cell_type": "code",
   "execution_count": 11,
   "metadata": {},
   "outputs": [
    {
     "data": {
      "text/html": [
       "<div>\n",
       "<style scoped>\n",
       "    .dataframe tbody tr th:only-of-type {\n",
       "        vertical-align: middle;\n",
       "    }\n",
       "\n",
       "    .dataframe tbody tr th {\n",
       "        vertical-align: top;\n",
       "    }\n",
       "\n",
       "    .dataframe thead th {\n",
       "        text-align: right;\n",
       "    }\n",
       "</style>\n",
       "<table border=\"1\" class=\"dataframe\">\n",
       "  <thead>\n",
       "    <tr style=\"text-align: right;\">\n",
       "      <th></th>\n",
       "      <th>file_name</th>\n",
       "      <th>file_type</th>\n",
       "      <th>page_number</th>\n",
       "      <th>chunks</th>\n",
       "      <th>concise_summary</th>\n",
       "    </tr>\n",
       "  </thead>\n",
       "  <tbody>\n",
       "    <tr>\n",
       "      <th>0</th>\n",
       "      <td>hd_annual_report</td>\n",
       "      <td>.pdf</td>\n",
       "      <td>0</td>\n",
       "      <td>‘23Annual\\nReport</td>\n",
       "      <td>It seems you provided a title or heading for a...</td>\n",
       "    </tr>\n",
       "    <tr>\n",
       "      <th>1</th>\n",
       "      <td>hd_annual_report</td>\n",
       "      <td>.pdf</td>\n",
       "      <td>1</td>\n",
       "      <td>Fiscal 2023: A Year of Moderation\\nFiscal 2023...</td>\n",
       "      <td>- **Fiscal 2023 Overview**: Marked a year of m...</td>\n",
       "    </tr>\n",
       "    <tr>\n",
       "      <th>2</th>\n",
       "      <td>hd_annual_report</td>\n",
       "      <td>.pdf</td>\n",
       "      <td>2</td>\n",
       "      <td>We also see an opportunity to drive sales thro...</td>\n",
       "      <td>- Opportunity identified for sales growth thro...</td>\n",
       "    </tr>\n",
       "    <tr>\n",
       "      <th>3</th>\n",
       "      <td>hd_annual_report</td>\n",
       "      <td>.pdf</td>\n",
       "      <td>3</td>\n",
       "      <td>Table of Contents\\nUNITED STATES\\nSECURITIES A...</td>\n",
       "      <td>- The document is the FORM 10-K annual report ...</td>\n",
       "    </tr>\n",
       "    <tr>\n",
       "      <th>4</th>\n",
       "      <td>hd_annual_report</td>\n",
       "      <td>.pdf</td>\n",
       "      <td>3</td>\n",
       "      <td>The number of shares outstanding of the regist...</td>\n",
       "      <td>- As of February 28, 2024, the registrant has ...</td>\n",
       "    </tr>\n",
       "  </tbody>\n",
       "</table>\n",
       "</div>"
      ],
      "text/plain": [
       "          file_name file_type  page_number  \\\n",
       "0  hd_annual_report      .pdf            0   \n",
       "1  hd_annual_report      .pdf            1   \n",
       "2  hd_annual_report      .pdf            2   \n",
       "3  hd_annual_report      .pdf            3   \n",
       "4  hd_annual_report      .pdf            3   \n",
       "\n",
       "                                              chunks  \\\n",
       "0                                  ‘23Annual\\nReport   \n",
       "1  Fiscal 2023: A Year of Moderation\\nFiscal 2023...   \n",
       "2  We also see an opportunity to drive sales thro...   \n",
       "3  Table of Contents\\nUNITED STATES\\nSECURITIES A...   \n",
       "4  The number of shares outstanding of the regist...   \n",
       "\n",
       "                                     concise_summary  \n",
       "0  It seems you provided a title or heading for a...  \n",
       "1  - **Fiscal 2023 Overview**: Marked a year of m...  \n",
       "2  - Opportunity identified for sales growth thro...  \n",
       "3  - The document is the FORM 10-K annual report ...  \n",
       "4  - As of February 28, 2024, the registrant has ...  "
      ]
     },
     "execution_count": 11,
     "metadata": {},
     "output_type": "execute_result"
    }
   ],
   "source": [
    "pdf_refine_summary = pd.DataFrame.from_dict(final_refine_data)\n",
    "pdf_refine_summary = pdf_refine_summary.sort_values(\n",
    "    by=[\"file_name\", \"page_number\"]\n",
    ")  # sorting the dataframe by filename and page_number\n",
    "pdf_refine_summary.reset_index(inplace=True, drop=True)\n",
    "pdf_refine_summary.head()\n",
    "     "
   ]
  },
  {
   "cell_type": "markdown",
   "metadata": {},
   "source": [
    "Examine summarization of a specific page"
   ]
  },
  {
   "cell_type": "code",
   "execution_count": 13,
   "metadata": {},
   "outputs": [
    {
     "name": "stdout",
     "output_type": "stream",
     "text": [
      "[Context]\n",
      "LIVING OUR\n",
      "VALUES\n",
      "The Home Depot, Inc.\n",
      "2455 Paces Ferry Road, Atlanta, GA 30339-4024\n",
      "(770)433-8211\n",
      "http://ir.homedepot.comNYSE: HDINVESTED AN \n",
      "ADDITIONAL     \n",
      "~ $1 BILLION  \n",
      "in annualized compensation \n",
      "for our frontline, hourly \n",
      "associates~ 90% of our U.S. store \n",
      "leaders started as \n",
      "HOURLY ASSOCIATESTargeting 85% of our \n",
      "U.S. & Canadian Sales in \n",
      "push mowers and handheld \n",
      "outdoor lawn equipment will be \n",
      "BATTERY POWERED   \n",
      "by the end of 2028\n",
      "Since 2018, our Foundation’s  \n",
      "PATH TO PRO  \n",
      "program helped train over \n",
      "41,000 participants and \n",
      "introduced over 200,000 people  \n",
      "to the skilled tradesThe Home Depot Foundation\n",
      "SURPASSED \n",
      "$500 MILLION  \n",
      "in veterans giving since 2011\n",
      "ESTABLISHED \n",
      "SCIENCE-BASED \n",
      "TARGETS  \n",
      "to reduce our \n",
      "emissions across Scopes \n",
      "1, 2 & 3 by the end of 2030STRENGTHEN OUR FOCUS ON\n",
      "OUR PEOPLE COMMUNITIESOPERATE\n",
      "SUSTAINABLY\n",
      "\n",
      "\n",
      " [Simple Summary]\n",
      "- Home Depot invested an additional ~$1 billion in annualized compensation for frontline, hourly associates.\n",
      "- 90% of U.S. store leaders began their careers as hourly associates.\n",
      "- Targeting 85% of U.S. and Canadian sales in push mowers and handheld outdoor lawn equipment to be battery-powered by the end of 2028.\n",
      "- The Home Depot Foundation's PATH TO PRO program has trained over 41,000 participants and introduced over 200,000 people to skilled trades since 2018.\n",
      "- The Home Depot Foundation has surpassed $500 million in veterans giving since 2011.\n",
      "- Established science-based targets to reduce emissions across Scopes 1, 2, and 3 by the end of 2030.\n",
      "- Focus on strengthening commitment to people, communities, and sustainable operations.\n",
      "\n",
      "\n",
      " [Page number]\n",
      "98\n",
      "\n",
      "\n",
      " [Source: file_name]\n",
      "hd_annual_report\n"
     ]
    }
   ],
   "source": [
    "# page 98\n",
    "index = 138\n",
    "print(\"[Context]\")\n",
    "print(pdf_refine_summary[\"chunks\"].iloc[index])\n",
    "print(\"\\n\\n [Simple Summary]\")\n",
    "print(pdf_refine_summary[\"concise_summary\"].iloc[index])\n",
    "print(\"\\n\\n [Page number]\")\n",
    "print(pdf_refine_summary[\"page_number\"].iloc[index])\n",
    "print(\"\\n\\n [Source: file_name]\")\n",
    "print(pdf_refine_summary[\"file_name\"].iloc[index])"
   ]
  },
  {
   "cell_type": "markdown",
   "metadata": {},
   "source": [
    "## Final Summarization "
   ]
  },
  {
   "cell_type": "code",
   "execution_count": 16,
   "metadata": {},
   "outputs": [],
   "source": [
    "from langchain.prompts import PromptTemplate\n",
    "from langchain.chains import LLMChain \n",
    "from langchain_core.messages import AIMessage, HumanMessage, SystemMessage\n",
    "from langchain_core.output_parsers import StrOutputParser"
   ]
  },
  {
   "cell_type": "markdown",
   "metadata": {},
   "source": [
    "Combine all the summarizations to generate a final summary"
   ]
  },
  {
   "cell_type": "code",
   "execution_count": 17,
   "metadata": {},
   "outputs": [],
   "source": [
    "final_summary = \"\\n\\n\".join(pdf_refine_summary['concise_summary'])"
   ]
  },
  {
   "cell_type": "code",
   "execution_count": 21,
   "metadata": {},
   "outputs": [],
   "source": [
    "final_sum_prompt_template = \"\"\"You are an intelligent writing assistant. Your task is to generate a coherent, well-structured summary of a document based on individual page summaries provided below.\n",
    "\n",
    "Page Summaries:\n",
    "{page_summaries}\n",
    "\n",
    "When synthesizing these, consider the following:\n",
    "- Identify and highlight major themes, recurring ideas, and the most important points.\n",
    "- Maintain a logical flow from introduction to conclusion, ensuring that the summary reflects the document's overall structure.\n",
    "- Avoid redundancy but ensure no critical information is left out.\n",
    "- Your summary should read smoothly, making sure to connect ideas where appropriate.\n",
    "\n",
    "Your final output should be clear, comprehensive, and reflective of the entire document's essence.\n",
    "\n",
    "Overall Summary:\n",
    "\"\"\"\n",
    "\n",
    "\n",
    "final_sum_prompt = final_sum_prompt_template.format(page_summaries = final_summary)\n",
    "\n",
    "overall_summary = llm.invoke(\n",
    "    [SystemMessage(content=final_sum_prompt), \n",
    "     HumanMessage(content='Generate the overall summary.')]\n",
    ")"
   ]
  },
  {
   "cell_type": "markdown",
   "metadata": {},
   "source": [
    "# Comparision with ChatGPT summarization"
   ]
  },
  {
   "cell_type": "markdown",
   "metadata": {},
   "source": [
    "### Refined Method Summary"
   ]
  },
  {
   "cell_type": "code",
   "execution_count": 22,
   "metadata": {},
   "outputs": [
    {
     "name": "stdout",
     "output_type": "stream",
     "text": [
      "Overall Summary of the Document:\n",
      "### Overall Summary of The Home Depot, Inc. Fiscal 2023 Form 10-K\n",
      "\n",
      "The Home Depot, Inc. reported a year of moderation in fiscal 2023, following three years of significant growth in the home improvement market. Total sales declined by 3.0% to $152.7 billion, with comparable sales down 3.2%, reflecting changing consumer trends and rising interest rates. Net earnings fell to $15.1 billion, resulting in a decrease in earnings per diluted share by 9.5% to $15.11.\n",
      "\n",
      "**Strategic Focus and Operational Improvements**: The company emphasized enhancing customer experience, developing differentiated capabilities, and maintaining a low-cost provider position. Key operational improvements included enhanced digital navigation in stores, optimized logistics for appliance delivery, and investments in fulfillment modes tailored for professional customers (Pros). The acquisition of Construction Resources aimed to bolster product offerings for Pro customers.\n",
      "\n",
      "**Store Expansion and Workforce Investments**: Home Depot plans to open approximately 80 new stores over the next five years, with 13 openings in fiscal 2023. The company invested around $1 billion in annualized compensation for frontline associates to improve retention and customer service. Enhanced staffing levels contributed to better productivity and safety, while digital tools like the Sidekick application improved on-shelf availability.\n",
      "\n",
      "**Financial Performance**: The company generated $21.2 billion in cash flow from operations and returned over $16 billion to shareholders through dividends and share repurchases. Despite a decline in net sales, the company maintained a strong cash position, with $3.8 billion in cash and cash equivalents as of January 28, 2024.\n",
      "\n",
      "**Sustainability and Community Commitment**: Home Depot is committed to reducing its environmental impact, setting science-based targets to cut emissions by 42% by 2030. The Home Depot Foundation focuses on supporting U.S. veterans, disaster relief, and training skilled tradespeople. The company also emphasizes diversity, equity, and inclusion (DEI) initiatives, aiming to foster a positive associate experience.\n",
      "\n",
      "**Risk Factors and Market Challenges**: The report outlines various risks, including competition, supply chain disruptions, and economic uncertainties. The company faces challenges related to labor costs, cybersecurity threats, and compliance with evolving regulations. Additionally, inflation and rising interest rates could impact consumer spending and demand for home improvement products.\n",
      "\n",
      "**Governance and Internal Controls**: The document includes an assessment of the effectiveness of internal controls over financial reporting, compliant with the Sarbanes-Oxley Act. The company’s governance structure is supported by various committees overseeing audit, finance, and compensation matters.\n",
      "\n",
      "**Conclusion**: The Home Depot remains focused on leveraging its competitive advantages for long-term growth, with a commitment to enhancing customer experience, expanding its store footprint, and investing in its workforce. The company aims to navigate market challenges while maintaining its leadership position in the home improvement retail sector.\n"
     ]
    }
   ],
   "source": [
    "# Display the overall summary\n",
    "print(\"Overall Summary of the Document:\")\n",
    "print(overall_summary.content)\n"
   ]
  },
  {
   "cell_type": "markdown",
   "metadata": {},
   "source": [
    "### ChatGPT generated summary"
   ]
  },
  {
   "cell_type": "markdown",
   "metadata": {},
   "source": [
    "The document is **The Home Depot's Annual Report for Fiscal 2023**, providing a detailed review of the company's financial performance, strategic objectives, and future plans. Here's a summary of the key points:\n",
    "\n",
    "- **Financial Performance**: In fiscal 2023, total sales dropped by 3% to $152.7 billion, while net earnings were $15.1 billion. The company's diluted earnings per share also decreased by 9.5% to $15.11.\n",
    "  \n",
    "- **Market Conditions**: The year was marked by moderation following three years of strong growth. The company faced macroeconomic challenges such as inflation, rising interest rates, and shifts in consumer spending patterns.\n",
    "\n",
    "- **Strategic Focus**: Home Depot remained committed to its long-term goals, including enhancing customer experience, developing unique capabilities, maintaining its low-cost position, and growing market share. The company focused on reducing friction in the shopping experience, expanding its store footprint, and enhancing its Pro customer offerings.\n",
    "\n",
    "- **Operational Improvements**: Efforts were made to improve store navigation, reduce checkout times, and increase customer satisfaction through better delivery systems. Investments were made in digital technologies, such as the \"Sidekick\" application powered by machine learning, and the acquisition of Construction Resources.\n",
    "\n",
    "- **Growth Opportunities**: The company aims to expand by opening around 80 new stores over the next five years, especially in areas with significant population growth.\n",
    "\n",
    "- **Employee Investments**: Home Depot invested $1 billion in compensation for frontline workers, improving staff retention and customer service quality.\n",
    "\n",
    "- **Technological Advancements**: Machine learning and computer vision technologies were introduced to improve product availability and enhance productivity within stores.\n",
    "\n",
    "- **Outlook for 2024**: The company plans to continue leveraging its strengths to capitalize on long-term growth opportunities while focusing on delivering shareholder value and improving the shopping experience.\n"
   ]
  },
  {
   "cell_type": "markdown",
   "metadata": {},
   "source": [
    "### Evaluation "
   ]
  },
  {
   "cell_type": "markdown",
   "metadata": {},
   "source": [
    "Here’s a comparison of the two versions:\n",
    "\n",
    "### **Version 1**:\n",
    "- **Style**: More detailed and comprehensive. It breaks down the document into clearly labeled sections such as **Strategic Focus**, **Financial Performance**, **Store Expansion**, etc.\n",
    "- **Length**: Longer, covering a wide range of areas including financials, operational improvements, sustainability, risks, governance, and future strategies.\n",
    "- **Tone**: Professional and formal. It reads like an executive summary that you might find in a corporate report, with in-depth insights.\n",
    "- **Focus**: While it mentions fiscal performance, it gives significant weight to **strategic focus**, **workforce investments**, **sustainability**, **risks**, and **governance**. It provides a well-rounded picture of the company beyond just the financials.\n",
    "\n",
    "### **Version 2**:\n",
    "- **Style**: Shorter and more concise. It hits the key points but doesn’t delve into as much detail.\n",
    "- **Length**: Much shorter and more to the point. It offers a high-level summary of important points without elaborating too much on specific areas.\n",
    "- **Tone**: Slightly more informal and straightforward. It feels like a brief recap rather than a deep analysis.\n",
    "- **Focus**: Concentrates on key elements like **financial performance**, **strategic focus**, **employee investments**, and **growth opportunities**, while omitting more detailed sections like governance, sustainability, and risk factors.\n",
    "\n",
    "### **Which to Use**:\n",
    "- If you're looking for a **comprehensive overview** that covers all aspects of the document, **Version 1** is better suited.\n",
    "- If you need a **quick, high-level summary** that hits the main points without too much detail, **Version 2** works best.\n"
   ]
  }
 ],
 "metadata": {
  "kernelspec": {
   "display_name": "summarization_venv",
   "language": "python",
   "name": "python3"
  },
  "language_info": {
   "codemirror_mode": {
    "name": "ipython",
    "version": 3
   },
   "file_extension": ".py",
   "mimetype": "text/x-python",
   "name": "python",
   "nbconvert_exporter": "python",
   "pygments_lexer": "ipython3",
   "version": "3.12.4"
  }
 },
 "nbformat": 4,
 "nbformat_minor": 2
}
