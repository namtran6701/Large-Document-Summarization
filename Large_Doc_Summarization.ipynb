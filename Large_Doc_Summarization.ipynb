{
 "cells": [
  {
   "cell_type": "markdown",
   "metadata": {},
   "source": [
    "# Text Summarization of Large Documents using LangChain and LLamaParse\n",
    "\n"
   ]
  },
  {
   "cell_type": "code",
   "execution_count": 2,
   "metadata": {},
   "outputs": [],
   "source": [
    "# !pip install --upgrade pytesseract pypdf PyPDF2 textract langchain transformers --quiet"
   ]
  },
  {
   "cell_type": "markdown",
   "metadata": {},
   "source": [
    "**Objective**:  \n",
    "\n",
    "This notebook demonstrates and compares two methods for summarizing large documents using LangChain and different PDF parsing techniques:\n",
    "\n",
    "1. Basic extraction using PyPDFLoader\n",
    "2. Advanced extraction using LlamaParse\n",
    "\n",
    "The main goals are:\n",
    "\n",
    "1. To implement and optimize the Refine summarization technique from LangChain for processing large documents.\n",
    "2. To compare the effectiveness of PyPDFLoader and LlamaParse in extracting content from PDF files.\n",
    "3. To generate comprehensive summaries of multiple Home Depot financial documents (annual report, proxy statement, and quarterly report).\n",
    "4. To evaluate the quality and depth of summaries produced by each method.\n",
    "\n",
    "The notebook aims to provide insights into which approach might be more suitable for different summarization needs, considering factors such as clarity, comprehensiveness, and level of detail in financial reporting contexts.\n"
   ]
  },
  {
   "cell_type": "code",
   "execution_count": 195,
   "metadata": {},
   "outputs": [],
   "source": [
    "# Standard library imports\n",
    "import os\n",
    "import urllib\n",
    "import warnings\n",
    "from pathlib import Path as p\n",
    "from typing import List\n",
    "from dataclasses import dataclass\n",
    "from IPython.display import Image, Markdown, display\n",
    "\n",
    "# Third-party imports\n",
    "import pandas as pd\n",
    "import nest_asyncio\n",
    "from dotenv import load_dotenv\n",
    "\n",
    "# LangChain imports\n",
    "from langchain import PromptTemplate\n",
    "from langchain.chains.summarize import load_summarize_chain\n",
    "from langchain.document_loaders import PyPDFLoader\n",
    "from langchain_openai import AzureChatOpenAI\n",
    "from langchain_core.documents import Document\n",
    "\n",
    "# Llama Index imports\n",
    "from llama_parse import LlamaParse\n",
    "from llama_index.core.extractors import (\n",
    "    SummaryExtractor,\n",
    "    QuestionsAnsweredExtractor,\n",
    "    TitleExtractor,\n",
    "    KeywordExtractor,\n",
    "    BaseExtractor,\n",
    ")\n",
    "from llama_index.extractors.entity import EntityExtractor\n",
    "from llama_index.core.node_parser import TokenTextSplitter\n",
    "from llama_index.llms.azure_openai import AzureOpenAI\n",
    "from llama_index.core.schema import MetadataMode\n",
    "from llama_index.core import SimpleDirectoryReader\n",
    "from llama_index.core.ingestion import IngestionPipeline\n",
    "\n",
    "# Load environment variables and apply nest_asyncio\n",
    "load_dotenv('C:\\Lang Graph\\LangGraph_SF_Repo\\.env')\n",
    "nest_asyncio.apply()\n",
    "\n",
    "# Suppress warnings\n",
    "warnings.filterwarnings(\"ignore\")"
   ]
  },
  {
   "cell_type": "code",
   "execution_count": 68,
   "metadata": {},
   "outputs": [],
   "source": [
    "# Initialize the Azure OpenAI model\n",
    "llm_llamaindex = AzureOpenAI(\n",
    "    model=\"gpt-4o-mini\",\n",
    "    deployment_name=\"gpt-4o-mini\",\n",
    "    api_key = os.environ['AZURE_OPENAI_API_KEY'],\n",
    "    azure_endpoint = os.environ['AZURE_OPENAI_ENDPOINT'],\n",
    "    api_version = os.environ['AZURE_OPENAI_API_VERSION'] )"
   ]
  },
  {
   "cell_type": "code",
   "execution_count": 126,
   "metadata": {},
   "outputs": [],
   "source": [
    "# Initialize the Azure OpenAI model\n",
    "llm = AzureChatOpenAI(\n",
    "    azure_deployment=\"gpt-4o-mini\",  \n",
    "    temperature=0.3,\n",
    "    api_version=os.environ['AZURE_OPENAI_API_VERSION'],  \n",
    "    model_name='gpt-4o-mini'         \n",
    ")"
   ]
  },
  {
   "cell_type": "code",
   "execution_count": 127,
   "metadata": {},
   "outputs": [],
   "source": [
    "# text_splitter = TokenTextSplitter(\n",
    "#     separator=\" \", chunk_size=1024, chunk_overlap=200\n",
    "# )\n",
    "\n",
    "# class CustomExtractor(BaseExtractor):\n",
    "#     def extract(self, nodes):\n",
    "#         metadata_list = [\n",
    "#             {\n",
    "#                 \"custom\": (\n",
    "#                     node.metadata[\"document_title\"]\n",
    "#                     + \"\\n\"\n",
    "#                     + node.metadata[\"excerpt_keywords\"]\n",
    "#                 )\n",
    "#             }\n",
    "#             for node in nodes\n",
    "#         ]\n",
    "#         return metadata_list\n",
    "\n",
    "# extractors = [\n",
    "#     TitleExtractor(nodes=5, llm=llm_llamaindex),\n",
    "#     QuestionsAnsweredExtractor(questions=3, llm=llm_llamaindex),\n",
    "#     # EntityExtractor(prediction_threshold=0.5),\n",
    "#     # SummaryExtractor(summaries=[\"prev\", \"self\"], llm=llm),\n",
    "#     # KeywordExtractor(keywords=10, llm=llm),\n",
    "#     # CustomExtractor()\n",
    "# ]\n",
    "\n",
    "# transformations = [text_splitter] + extractors"
   ]
  },
  {
   "cell_type": "code",
   "execution_count": 128,
   "metadata": {},
   "outputs": [],
   "source": [
    "# # Note the uninformative document file name, which may be a common scenario in a production setting\n",
    "# hd_earning_statement = SimpleDirectoryReader(input_files=[\"C:\\Lang Graph\\LangGraph_SF_Repo\\Large_Document_Summarization\\data\\hd_q2_2024_earning_release.pdf\"]).load_data()\n",
    "\n",
    "# hd_earning_statement[:3]"
   ]
  },
  {
   "cell_type": "markdown",
   "metadata": {},
   "source": [
    "# Large Document Summarization"
   ]
  },
  {
   "cell_type": "markdown",
   "metadata": {},
   "source": [
    "## Preparing data files"
   ]
  },
  {
   "cell_type": "markdown",
   "metadata": {},
   "source": [
    "Here we will load a Home Depot Annual Report, which is a substantial document. \n",
    "Documents of this size can be challenging for LLMs to summarize comprehensively.\n",
    "We'll use this to demonstrate advanced summarization techniques."
   ]
  },
  {
   "cell_type": "code",
   "execution_count": 5,
   "metadata": {},
   "outputs": [],
   "source": [
    "# # data_folder = p.cwd() / \"data\"\n",
    "# # p(data_folder).mkdir(parents=True, exist_ok=True)\n",
    "# pdf_url = \"https://services.google.com/fh/files/misc/practitioners_guide_to_mlops_whitepaper.pdf\"\n",
    "# pdf_file = str(p(data_folder, pdf_url.split(\"/\")[-1]))\n",
    "\n",
    "# urllib.request.urlretrieve(pdf_url, pdf_file)"
   ]
  },
  {
   "cell_type": "markdown",
   "metadata": {},
   "source": [
    "## Basic Data Extraction PyPDFLoader"
   ]
  },
  {
   "cell_type": "markdown",
   "metadata": {},
   "source": [
    "Here we use an `PdfReader` to extract then text from our scanned documents"
   ]
  },
  {
   "cell_type": "code",
   "execution_count": 129,
   "metadata": {},
   "outputs": [
    {
     "data": {
      "text/plain": [
       "['hd_annual_report.pdf',\n",
       " 'hd_proxy_statement_2024.pdf',\n",
       " 'hd_q2_2024_earning_release.pdf']"
      ]
     },
     "execution_count": 129,
     "metadata": {},
     "output_type": "execute_result"
    }
   ],
   "source": [
    "# list all data in a folder \n",
    "files = os.listdir('./data')\n",
    "files"
   ]
  },
  {
   "cell_type": "code",
   "execution_count": 155,
   "metadata": {},
   "outputs": [],
   "source": [
    "# load all these documents \n",
    "\n",
    "def load_multiple_pdfs(directory):\n",
    "    documents = []\n",
    "    for file in os.listdir(directory):\n",
    "        if file.endswith('.pdf'):\n",
    "            file_path = os.path.join(directory, file)\n",
    "            loader = PyPDFLoader(file_path)\n",
    "            documents.extend(loader.load())\n",
    "    return documents\n"
   ]
  },
  {
   "cell_type": "code",
   "execution_count": 159,
   "metadata": {},
   "outputs": [],
   "source": [
    "# Process all documents \n",
    "pdf_directory = './data'\n",
    "pdf_reader_processed = load_multiple_pdfs(pdf_directory)\n"
   ]
  },
  {
   "cell_type": "code",
   "execution_count": 160,
   "metadata": {},
   "outputs": [
    {
     "data": {
      "text/plain": [
       "211"
      ]
     },
     "execution_count": 160,
     "metadata": {},
     "output_type": "execute_result"
    }
   ],
   "source": [
    "len(pdf_reader_processed)"
   ]
  },
  {
   "cell_type": "markdown",
   "metadata": {},
   "source": [
    "This is equal to the total number of pages of all documents in our directory, which is expected"
   ]
  },
  {
   "cell_type": "markdown",
   "metadata": {},
   "source": [
    "## Advanced Data Extraction LlamaParse"
   ]
  },
  {
   "cell_type": "markdown",
   "metadata": {},
   "source": [
    "In this approach, we will use Llama Parse to extract text to see if the final quality of summarization would be better than the basic PDF reader"
   ]
  },
  {
   "cell_type": "code",
   "execution_count": 161,
   "metadata": {},
   "outputs": [],
   "source": [
    "# # PARSER for documents \n",
    "parser = LlamaParse(\n",
    "    result_type=\"markdown\",  # \"markdown\" and \"text\" are available\n",
    "    num_workers=5,  # if multiple files passed, split in `num_workers` API calls\n",
    "    verbose=True,\n",
    "    language=\"en\",  # Optionally you can define a language, default=en\n",
    ")"
   ]
  },
  {
   "cell_type": "code",
   "execution_count": 172,
   "metadata": {},
   "outputs": [
    {
     "name": "stderr",
     "output_type": "stream",
     "text": [
      "Parsing files: 100%|██████████| 3/3 [00:23<00:00,  7.81s/it]\n"
     ]
    }
   ],
   "source": [
    "# all home depot data in the data folders\n",
    "\n",
    "# async batch\n",
    "llama_parse_processed = await parser.aload_data([f\"./data/{file}\" for file in files])\n"
   ]
  },
  {
   "cell_type": "code",
   "execution_count": 174,
   "metadata": {},
   "outputs": [],
   "source": [
    "# simplify Document format to contain necessary information only\n",
    "def simplify_document(document):\n",
    "    return Document(\n",
    "        metadata={\n",
    "            'source': document.metadata.get('file_path', ''),\n",
    "            'page': document.metadata.get('page_label', '')\n",
    "        },\n",
    "        page_content=document.text\n",
    "    )\n",
    "\n",
    "llama_parse_processed = [simplify_document(doc) for doc in llama_parse_processed]\n",
    "\n"
   ]
  },
  {
   "cell_type": "markdown",
   "metadata": {},
   "source": [
    "# Method: Refine"
   ]
  },
  {
   "cell_type": "markdown",
   "metadata": {},
   "source": [
    "The Refine method is an alternative method to deal with large document summarization. It works by first running an initial prompt on a small chunk of data, generating some output. Then for each subsequent document, the output from the previous document is passed in a long with the new document, and the LLM is asked to refine the output based on the new document. \n",
    "\n",
    "In LangChain, you can use `RefineDocumentsChain` as part of the load_summarize_chain method. What you need to do is setting `refine` as `chain_type` of your chain"
   ]
  },
  {
   "cell_type": "markdown",
   "metadata": {},
   "source": [
    "### Prompt design with `Refine` Chain"
   ]
  },
  {
   "cell_type": "markdown",
   "metadata": {},
   "source": [
    "With LangChain, the `refine` chain requires 2 prompts"
   ]
  },
  {
   "cell_type": "markdown",
   "metadata": {},
   "source": [
    "The question prompt to generate hte output for subsequent taks. The refine prompt to refine the output based on the generated content. \n"
   ]
  },
  {
   "cell_type": "code",
   "execution_count": 107,
   "metadata": {},
   "outputs": [],
   "source": [
    "\n",
    "question_prompt_template = \"\"\"\n",
    "                  Please provide a summary of the following text.\n",
    "                  TEXT: {text}\n",
    "                  SUMMARY:\n",
    "                  \"\"\"\n",
    "\n",
    "question_prompt = PromptTemplate(\n",
    "    template=question_prompt_template, input_variables=[\"text\"]\n",
    ")\n",
    "\n",
    "refine_prompt_template = \"\"\"\n",
    "              Write a concise summary of the following text delimited by triple backquotes.\n",
    "              Return your response in bullet points which covers the key points of the text.\n",
    "              ```{text}```\n",
    "              BULLET POINT SUMMARY:\n",
    "              \"\"\"\n",
    "\n",
    "refine_prompt = PromptTemplate(\n",
    "    template=refine_prompt_template, input_variables=[\"text\"]\n",
    ")"
   ]
  },
  {
   "cell_type": "markdown",
   "metadata": {},
   "source": [
    "## Generate Summaries"
   ]
  },
  {
   "cell_type": "markdown",
   "metadata": {},
   "source": [
    "After you define prompts, you initiate a summarization chain using `refine` chain type."
   ]
  },
  {
   "cell_type": "code",
   "execution_count": 33,
   "metadata": {},
   "outputs": [],
   "source": [
    "refine_chain = load_summarize_chain(\n",
    "    llm,\n",
    "    chain_type=\"refine\",\n",
    "    question_prompt=question_prompt,\n",
    "    refine_prompt=refine_prompt,\n",
    "    return_intermediate_steps=True,\n",
    ")"
   ]
  },
  {
   "cell_type": "markdown",
   "metadata": {},
   "source": [
    "### PDF Reader Chunk Summaries"
   ]
  },
  {
   "cell_type": "markdown",
   "metadata": {},
   "source": [
    "Then, you use the summarization chain to summarize each document chunk using Refine method"
   ]
  },
  {
   "cell_type": "code",
   "execution_count": 175,
   "metadata": {},
   "outputs": [],
   "source": [
    "# create summary for each chunk extracted by pdf reader \n",
    "pdf_reader_refine_outputs = refine_chain({'input_documents': pdf_reader_processed})"
   ]
  },
  {
   "cell_type": "code",
   "execution_count": 177,
   "metadata": {},
   "outputs": [],
   "source": [
    "pdfreader_final_refine_data = []\n",
    "for doc, out in zip(\n",
    "    pdf_reader_refine_outputs[\"input_documents\"], pdf_reader_refine_outputs[\"intermediate_steps\"]\n",
    "):\n",
    "    output = {}\n",
    "    output[\"file_name\"] = p(doc.metadata[\"source\"]).stem\n",
    "    output[\"file_type\"] = p(doc.metadata[\"source\"]).suffix\n",
    "    output[\"page_number\"] = doc.metadata[\"page\"]\n",
    "    output[\"chunks\"] = doc.page_content\n",
    "    output[\"concise_summary\"] = out\n",
    "    pdfreader_final_refine_data.append(output)"
   ]
  },
  {
   "cell_type": "code",
   "execution_count": 179,
   "metadata": {},
   "outputs": [
    {
     "data": {
      "text/html": [
       "<div>\n",
       "<style scoped>\n",
       "    .dataframe tbody tr th:only-of-type {\n",
       "        vertical-align: middle;\n",
       "    }\n",
       "\n",
       "    .dataframe tbody tr th {\n",
       "        vertical-align: top;\n",
       "    }\n",
       "\n",
       "    .dataframe thead th {\n",
       "        text-align: right;\n",
       "    }\n",
       "</style>\n",
       "<table border=\"1\" class=\"dataframe\">\n",
       "  <thead>\n",
       "    <tr style=\"text-align: right;\">\n",
       "      <th></th>\n",
       "      <th>file_name</th>\n",
       "      <th>file_type</th>\n",
       "      <th>page_number</th>\n",
       "      <th>chunks</th>\n",
       "      <th>concise_summary</th>\n",
       "    </tr>\n",
       "  </thead>\n",
       "  <tbody>\n",
       "    <tr>\n",
       "      <th>0</th>\n",
       "      <td>hd_annual_report</td>\n",
       "      <td>.pdf</td>\n",
       "      <td>0</td>\n",
       "      <td>‘23Annual\\nReport</td>\n",
       "      <td>It seems like the text you provided is incompl...</td>\n",
       "    </tr>\n",
       "    <tr>\n",
       "      <th>1</th>\n",
       "      <td>hd_annual_report</td>\n",
       "      <td>.pdf</td>\n",
       "      <td>1</td>\n",
       "      <td>Fiscal 2023: A Year of Moderation\\nFiscal 2023...</td>\n",
       "      <td>- Fiscal 2023 experienced moderation following...</td>\n",
       "    </tr>\n",
       "    <tr>\n",
       "      <th>2</th>\n",
       "      <td>hd_annual_report</td>\n",
       "      <td>.pdf</td>\n",
       "      <td>2</td>\n",
       "      <td>We also see an opportunity to drive sales thro...</td>\n",
       "      <td>- Opportunity identified for sales growth thro...</td>\n",
       "    </tr>\n",
       "    <tr>\n",
       "      <th>3</th>\n",
       "      <td>hd_annual_report</td>\n",
       "      <td>.pdf</td>\n",
       "      <td>3</td>\n",
       "      <td>Table of Contents\\nUNITED STATES\\nSECURITIES A...</td>\n",
       "      <td>- The document is the Form 10-K annual report ...</td>\n",
       "    </tr>\n",
       "    <tr>\n",
       "      <th>4</th>\n",
       "      <td>hd_annual_report</td>\n",
       "      <td>.pdf</td>\n",
       "      <td>4</td>\n",
       "      <td>TABLE OF CONTENTS\\nCommonly Used or Defined Te...</td>\n",
       "      <td>- **Table of Contents Overview**: Organized in...</td>\n",
       "    </tr>\n",
       "  </tbody>\n",
       "</table>\n",
       "</div>"
      ],
      "text/plain": [
       "          file_name file_type  page_number  \\\n",
       "0  hd_annual_report      .pdf            0   \n",
       "1  hd_annual_report      .pdf            1   \n",
       "2  hd_annual_report      .pdf            2   \n",
       "3  hd_annual_report      .pdf            3   \n",
       "4  hd_annual_report      .pdf            4   \n",
       "\n",
       "                                              chunks  \\\n",
       "0                                  ‘23Annual\\nReport   \n",
       "1  Fiscal 2023: A Year of Moderation\\nFiscal 2023...   \n",
       "2  We also see an opportunity to drive sales thro...   \n",
       "3  Table of Contents\\nUNITED STATES\\nSECURITIES A...   \n",
       "4  TABLE OF CONTENTS\\nCommonly Used or Defined Te...   \n",
       "\n",
       "                                     concise_summary  \n",
       "0  It seems like the text you provided is incompl...  \n",
       "1  - Fiscal 2023 experienced moderation following...  \n",
       "2  - Opportunity identified for sales growth thro...  \n",
       "3  - The document is the Form 10-K annual report ...  \n",
       "4  - **Table of Contents Overview**: Organized in...  "
      ]
     },
     "execution_count": 179,
     "metadata": {},
     "output_type": "execute_result"
    }
   ],
   "source": [
    "pdfreader_refine_summary = pd.DataFrame.from_dict(pdfreader_final_refine_data)\n",
    "pdfreader_refine_summary.reset_index(inplace=True, drop=True)\n",
    "pdfreader_refine_summary.head()\n",
    "     "
   ]
  },
  {
   "cell_type": "markdown",
   "metadata": {},
   "source": [
    "### Llama Parse Chunk Summaries"
   ]
  },
  {
   "cell_type": "code",
   "execution_count": 182,
   "metadata": {},
   "outputs": [],
   "source": [
    "# create summary for each chunk extracted by pdf reader \n",
    "llamaparse_refine_outputs = refine_chain({'input_documents': llama_parse_processed})"
   ]
  },
  {
   "cell_type": "code",
   "execution_count": 184,
   "metadata": {},
   "outputs": [],
   "source": [
    "llamaparse_final_refine_data = []\n",
    "for doc, out in zip(\n",
    "    llamaparse_refine_outputs[\"input_documents\"], llamaparse_refine_outputs[\"intermediate_steps\"]\n",
    "):\n",
    "    output = {}\n",
    "    output[\"chunks\"] = doc.page_content\n",
    "    output[\"concise_summary\"] = out\n",
    "    llamaparse_final_refine_data.append(output)"
   ]
  },
  {
   "cell_type": "code",
   "execution_count": 186,
   "metadata": {},
   "outputs": [
    {
     "data": {
      "text/html": [
       "<div>\n",
       "<style scoped>\n",
       "    .dataframe tbody tr th:only-of-type {\n",
       "        vertical-align: middle;\n",
       "    }\n",
       "\n",
       "    .dataframe tbody tr th {\n",
       "        vertical-align: top;\n",
       "    }\n",
       "\n",
       "    .dataframe thead th {\n",
       "        text-align: right;\n",
       "    }\n",
       "</style>\n",
       "<table border=\"1\" class=\"dataframe\">\n",
       "  <thead>\n",
       "    <tr style=\"text-align: right;\">\n",
       "      <th></th>\n",
       "      <th>chunks</th>\n",
       "      <th>concise_summary</th>\n",
       "    </tr>\n",
       "  </thead>\n",
       "  <tbody>\n",
       "    <tr>\n",
       "      <th>0</th>\n",
       "      <td># Annual Report '23\\n\\n# Espanol Yo Hablo\\n\\n#...</td>\n",
       "      <td>The text appears to be a title or header for a...</td>\n",
       "    </tr>\n",
       "    <tr>\n",
       "      <th>1</th>\n",
       "      <td># Fiscal 2023: A Year of Moderation\\n\\nFiscal ...</td>\n",
       "      <td>- Fiscal 2023 experienced a moderation in the ...</td>\n",
       "    </tr>\n",
       "    <tr>\n",
       "      <th>2</th>\n",
       "      <td># Cleaning\\n\\n# Lumber\\n\\n# Light Bulbs\\n\\n# P...</td>\n",
       "      <td>- **Store Expansion**: Plans to open approxima...</td>\n",
       "    </tr>\n",
       "    <tr>\n",
       "      <th>3</th>\n",
       "      <td># Table of Contents\\n\\n# UNITED STATES SECURIT...</td>\n",
       "      <td>- The document is the Form 10-K annual report ...</td>\n",
       "    </tr>\n",
       "    <tr>\n",
       "      <th>4</th>\n",
       "      <td># TABLE OF CONTENTS\\n\\n|Commonly Used or Defin...</td>\n",
       "      <td>- **Table of Contents Overview**: Organized in...</td>\n",
       "    </tr>\n",
       "  </tbody>\n",
       "</table>\n",
       "</div>"
      ],
      "text/plain": [
       "                                              chunks  \\\n",
       "0  # Annual Report '23\\n\\n# Espanol Yo Hablo\\n\\n#...   \n",
       "1  # Fiscal 2023: A Year of Moderation\\n\\nFiscal ...   \n",
       "2  # Cleaning\\n\\n# Lumber\\n\\n# Light Bulbs\\n\\n# P...   \n",
       "3  # Table of Contents\\n\\n# UNITED STATES SECURIT...   \n",
       "4  # TABLE OF CONTENTS\\n\\n|Commonly Used or Defin...   \n",
       "\n",
       "                                     concise_summary  \n",
       "0  The text appears to be a title or header for a...  \n",
       "1  - Fiscal 2023 experienced a moderation in the ...  \n",
       "2  - **Store Expansion**: Plans to open approxima...  \n",
       "3  - The document is the Form 10-K annual report ...  \n",
       "4  - **Table of Contents Overview**: Organized in...  "
      ]
     },
     "execution_count": 186,
     "metadata": {},
     "output_type": "execute_result"
    }
   ],
   "source": [
    "llamaparse_refine_summary = pd.DataFrame.from_dict(llamaparse_final_refine_data)\n",
    "llamaparse_refine_summary.reset_index(inplace=True, drop=True)\n",
    "llamaparse_refine_summary.head()\n",
    "     "
   ]
  },
  {
   "cell_type": "markdown",
   "metadata": {},
   "source": [
    "# Final Summarization "
   ]
  },
  {
   "cell_type": "code",
   "execution_count": 187,
   "metadata": {},
   "outputs": [],
   "source": [
    "from langchain.prompts import PromptTemplate\n",
    "from langchain.chains import LLMChain \n",
    "from langchain_core.messages import AIMessage, HumanMessage, SystemMessage\n",
    "from langchain_core.output_parsers import StrOutputParser"
   ]
  },
  {
   "cell_type": "markdown",
   "metadata": {},
   "source": [
    "Combine all the summarizations to generate a final summary"
   ]
  },
  {
   "cell_type": "markdown",
   "metadata": {},
   "source": [
    "## LlamaParse Final Summarization"
   ]
  },
  {
   "cell_type": "code",
   "execution_count": null,
   "metadata": {},
   "outputs": [],
   "source": [
    "llamparse_combined_summaries = \"\\n\\n\".join(llamaparse_refine_summary['concise_summary'])"
   ]
  },
  {
   "cell_type": "code",
   "execution_count": 189,
   "metadata": {},
   "outputs": [],
   "source": [
    "final_sum_prompt_template = \"\"\"\n",
    "**Overview**:\n",
    "- General Overview and Trends:\n",
    "    * Provide an industry outlook, indicating if the industry is trending up, down, or stable, and explain why.\n",
    "    * Analyze this retailer’s performance within the industry (sales, margins, market share).\n",
    "    * Identify key macroeconomic factors influencing the retailer’s performance (e.g., inflation, interest rates).\n",
    "    * Make a prediction for the next quarter, including sales growth, earnings per share, etc.\n",
    "    * Note any strategic initiatives that may affect future trends and elaborate if possible.\n",
    "\n",
    "**Annual Report:**\n",
    "    1. Business Overview:\n",
    "    - Summarize key business activities, including new store openings, digital transformation, pro-customer growth, etc.\n",
    "\n",
    "    2. Risk Factors:\n",
    "    - Detail significant risk factors and their potential impact on the business.\n",
    "    \n",
    "    3. Management’s Discussion and Analysis:\n",
    "    - Prioritize quantitative metrics from this section.\n",
    "\n",
    "**Proxy Statement:**\n",
    "    1. Management’s Discussion of Operations and Business Strategy:\n",
    "    - Provide strategic focus on customer-centric growth, supply chain, market leadership, etc.\n",
    "\n",
    "    2. Human Capital Management:\n",
    "    - Include details on talent retention, diversity, equity, inclusion, and employee engagement.\n",
    "\n",
    "    3. Corporate Governance and Risk Management:\n",
    "    - Discuss enterprise risk management, board oversight, cybersecurity, etc.\n",
    "\n",
    "    4. Market Performance and Shareholder Returns:\n",
    "    - Provide data on return on capital, share repurchase programs, dividends, and ESG.\n",
    "\n",
    "**Quarterly Report:**\n",
    "    1. Sales Performance:\n",
    "    - Include data on comparable sales, product categories, e-commerce, and regional sales performance.\n",
    "\n",
    "    2. Market Environment:\n",
    "    - Analyze macroeconomic trends, housing market, consumer demand, and competition.\n",
    "\n",
    "    3. Operational Performance:\n",
    "    - Focus on cost management, margins, inventory, and staffing metrics.\n",
    "\n",
    "    4. Guidance:\n",
    "    - Include forward-looking metrics like sales and profit projections, investment plans, etc.\n",
    "\n",
    "    5. Strategic Investments:\n",
    "    - Highlight capital expenditures, technology investments, sustainability initiatives, etc.\n",
    "\n",
    "Be sure to highlight any trends, strategic shifts, or significant risks, while grounding your analysis in the quantitative details provided by the reports.\n",
    "\n",
    "Here are provided page summaries all these three documents:\n",
    "{page_summaries}\n",
    "\n",
    "<---end of provided page summaries--->\n",
    "\n",
    "Overall Summary:\n",
    "\"\"\"\n",
    "\n",
    "final_sum_prompt = final_sum_prompt_template.format(page_summaries = llamparse_combined_summaries)"
   ]
  },
  {
   "cell_type": "code",
   "execution_count": 190,
   "metadata": {},
   "outputs": [],
   "source": [
    "# use the best model\n",
    "# Initialize the Azure OpenAI model\n",
    "llm_4o = AzureChatOpenAI(\n",
    "    azure_deployment=\"answer_generation\",  # The deployment name of the model in Azure\n",
    "    temperature=0.3,                 # Controls randomness in the output (0.0 to 1.0)\n",
    "    api_version=os.environ['AZURE_OPENAI_API_VERSION'],  # API version from environment variable\n",
    "    model_name='gpt-4o'         # The name of the model being used\n",
    ")"
   ]
  },
  {
   "cell_type": "code",
   "execution_count": null,
   "metadata": {},
   "outputs": [],
   "source": [
    "llamaparse_summary = llm_4o.invoke(\n",
    "    [SystemMessage(content=final_sum_prompt), \n",
    "     HumanMessage(content='Generate the overall summary.')]\n",
    ")"
   ]
  },
  {
   "cell_type": "code",
   "execution_count": 196,
   "metadata": {},
   "outputs": [
    {
     "data": {
      "text/markdown": [
       "**Industry Overview and Trends:**\n",
       "\n",
       "- **Outlook:** The home improvement industry experienced a moderation in growth during fiscal 2023, influenced by economic uncertainty and higher interest rates. The industry is currently stable but faces pressures from shifting consumer spending patterns.\n",
       "\n",
       "- **Retailer Performance:** Home Depot's sales declined by 3.0% to $152.7 billion, with comparable sales down 3.2%. Net earnings dropped by 11.5% to $15.1 billion, reflecting the challenging market environment.\n",
       "\n",
       "- **Macroeconomic Factors:** Key influences include inflation, interest rates, and changing consumer preferences post-COVID-19. These factors have affected demand for home improvement products.\n",
       "\n",
       "- **Prediction for Next Quarter:** Sales growth is expected to remain modest, with a projected decline in comparable sales by 3% to 4%. Earnings per share may also see a slight decrease.\n",
       "\n",
       "- **Strategic Initiatives:** Home Depot is focusing on digital transformation, enhancing the Pro customer ecosystem, and expanding its store footprint. Investments in technology and supply chain improvements are ongoing.\n",
       "\n",
       "**Annual Report:**\n",
       "\n",
       "1. **Business Overview:**\n",
       "   - Home Depot opened 13 new stores in fiscal 2023 and invested in digital navigation and store efficiency.\n",
       "   - The company transitioned to a new market delivery network for appliances and acquired Construction Resources to enhance Pro offerings.\n",
       "\n",
       "2. **Risk Factors:**\n",
       "   - Risks include intense competition, economic volatility, supply chain disruptions, and cybersecurity threats.\n",
       "\n",
       "3. **Management’s Discussion and Analysis:**\n",
       "   - Total sales were $152.7 billion, with a gross profit of $50.96 billion. Operating income was $21.69 billion.\n",
       "\n",
       "**Proxy Statement:**\n",
       "\n",
       "1. **Management’s Discussion of Operations and Business Strategy:**\n",
       "   - Focus on customer-centric growth, supply chain enhancements, and maintaining market leadership.\n",
       "\n",
       "2. **Human Capital Management:**\n",
       "   - Investment in talent retention, diversity, equity, inclusion, and employee engagement is emphasized.\n",
       "\n",
       "3. **Corporate Governance and Risk Management:**\n",
       "   - Strong governance with a focus on cybersecurity, risk management, and board oversight.\n",
       "\n",
       "4. **Market Performance and Shareholder Returns:**\n",
       "   - Return on Invested Capital (ROIC) was 36.7%. The company returned over $16 billion to shareholders through dividends and share repurchases.\n",
       "\n",
       "**Quarterly Report:**\n",
       "\n",
       "1. **Sales Performance:**\n",
       "   - Q2 fiscal 2024 sales were $43.2 billion, a 0.6% increase from the previous year. Comparable sales decreased by 3.3%.\n",
       "\n",
       "2. **Market Environment:**\n",
       "   - The market is affected by higher interest rates and economic uncertainty, impacting consumer demand.\n",
       "\n",
       "3. **Operational Performance:**\n",
       "   - Operating income was $6.5 billion, with an operating margin of 15.1%. Cost management and inventory efficiency remain priorities.\n",
       "\n",
       "4. **Guidance:**\n",
       "   - Total sales for fiscal 2024 are projected to increase by 2.5% to 3.5%, with a decline in comparable sales by 3% to 4%.\n",
       "\n",
       "5. **Strategic Investments:**\n",
       "   - Continued focus on technology investments, sustainability initiatives, and expanding store locations.\n",
       "\n",
       "**Overall Summary:**\n",
       "\n",
       "Home Depot is navigating a challenging market environment with strategic investments in digital and physical retail enhancements. Despite a decline in sales and earnings, the company remains committed to long-term growth through customer-centric initiatives and operational efficiencies. The focus on Pro customers and supply chain improvements positions Home Depot for future resilience."
      ],
      "text/plain": [
       "<IPython.core.display.Markdown object>"
      ]
     },
     "execution_count": 196,
     "metadata": {},
     "output_type": "execute_result"
    }
   ],
   "source": [
    "# Display markdown\n",
    "Markdown(llamaparse_summary.content)"
   ]
  },
  {
   "cell_type": "markdown",
   "metadata": {},
   "source": [
    "## PDFLoader Final Summarization"
   ]
  },
  {
   "cell_type": "code",
   "execution_count": 198,
   "metadata": {},
   "outputs": [],
   "source": [
    "pdfreader_combined_summaries = \"\\n\\n\".join(pdfreader_refine_summary['concise_summary'])"
   ]
  },
  {
   "cell_type": "code",
   "execution_count": 209,
   "metadata": {},
   "outputs": [],
   "source": [
    "final_sum_prompt = final_sum_prompt_template.format(page_summaries = pdfreader_combined_summaries)"
   ]
  },
  {
   "cell_type": "code",
   "execution_count": 210,
   "metadata": {},
   "outputs": [],
   "source": [
    "pdfreader_summary = llm_4o.invoke(\n",
    "    [SystemMessage(content=final_sum_prompt), \n",
    "     HumanMessage(content='Generate the overall summary.')]\n",
    ")"
   ]
  },
  {
   "cell_type": "code",
   "execution_count": 211,
   "metadata": {},
   "outputs": [
    {
     "data": {
      "text/markdown": [
       "**Overall Summary:**\n",
       "\n",
       "**Industry Overview and Trends:**\n",
       "- The home improvement industry experienced moderation in fiscal 2023 after several years of growth, influenced by high interest rates and economic uncertainty.\n",
       "- Home Depot's total sales decreased by 3.0% to $152.7 billion, with comparable sales down 3.2%.\n",
       "- Despite challenges, Home Depot maintained a strong position with net earnings of $15.1 billion.\n",
       "- Key macroeconomic factors affecting performance include inflation and shifting consumer spending patterns.\n",
       "- Strategic initiatives focus on enhancing customer experience, digital transformation, and expanding the Pro ecosystem.\n",
       "\n",
       "**Annual Report Highlights:**\n",
       "- Home Depot opened 13 new stores in fiscal 2023 and plans to open 80 more over five years.\n",
       "- Investments included $1 billion in frontline associate compensation and $3.2 billion in capital expenditures.\n",
       "- Risk factors include competition, cybersecurity threats, and supply chain disruptions.\n",
       "- Management emphasizes operational improvements and maintaining a low-cost provider position.\n",
       "\n",
       "**Proxy Statement Insights:**\n",
       "- Strategic focus on customer-centric growth and supply chain enhancements.\n",
       "- Commitment to diversity, equity, and inclusion with detailed workforce demographics.\n",
       "- Strong corporate governance with emphasis on cybersecurity and risk management.\n",
       "- Shareholder returns include $8.4 billion in dividends and $8.0 billion in share repurchases.\n",
       "\n",
       "**Quarterly Report Highlights:**\n",
       "- Q2 fiscal 2024 sales increased slightly to $43.2 billion, but comparable sales fell by 3.3%.\n",
       "- Operating income and net earnings showed slight declines due to economic pressures.\n",
       "- Updated guidance projects a 2.5% to 3.5% sales increase for fiscal 2024, with strategic investments in new stores and technology.\n",
       "- Continued focus on enhancing the interconnected shopping experience and Pro customer services.\n",
       "\n",
       "**Strategic Initiatives:**\n",
       "- Home Depot is investing in digital tools and supply chain capabilities to improve customer experience.\n",
       "- The company aims to leverage its competitive advantages for long-term growth and shareholder value.\n",
       "- Sustainability efforts include reducing emissions and promoting eco-friendly products.\n",
       "\n",
       "Overall, Home Depot remains a leader in the home improvement industry, focusing on strategic growth and operational efficiency despite economic challenges."
      ],
      "text/plain": [
       "<IPython.core.display.Markdown object>"
      ]
     },
     "execution_count": 211,
     "metadata": {},
     "output_type": "execute_result"
    }
   ],
   "source": [
    "# Display markdown\n",
    "Markdown(pdfreader_summary.content)"
   ]
  },
  {
   "cell_type": "markdown",
   "metadata": {},
   "source": [
    "# Conclusion"
   ]
  },
  {
   "cell_type": "markdown",
   "metadata": {},
   "source": [
    "Both summaries offer strong insights, but each approach has its strengths and limitations:\n",
    "\n",
    "### PyPDFLoader Version:\n",
    "**Strengths:**\n",
    "- **Clarity**: This version presents the information in a very clear and well-organized manner, making it easy to digest.\n",
    "- **Comprehensive Overview**: The \"Overall Summary\" section gives a broader view of Home Depot's performance and key trends.\n",
    "- **Detailed Proxy and Quarterly Report**: The breakdown of the proxy and quarterly report is informative, with a good balance of strategic and financial highlights.\n",
    "\n",
    "**Weaknesses:**\n",
    "- **Lack of Depth in Quantitative Data**: Although it mentions sales and net earnings, this version lacks deeper quantitative analysis, especially when discussing projections or comparisons to past figures.\n",
    "- **Mildly Generic Language**: Some phrases (e.g., \"continued focus on enhancing the interconnected shopping experience\") could be more specific. While it provides strategic initiatives, it doesn’t elaborate much on their potential impact.\n",
    "\n",
    "### Llamaparse Version:\n",
    "**Strengths:**\n",
    "- **Strong Quantitative Focus**: This version includes more precise figures (e.g., ROIC, operating income, and margins), offering deeper financial insights and predictions for the future.\n",
    "- **Prediction Clarity**: It gives a clearer and more detailed forecast for the next quarter, with figures on projected sales decline and earnings per share.\n",
    "- **Risk and Strategy Integration**: The llamaparse version connects risks (economic volatility, cybersecurity) with the company’s strategic responses, providing a more holistic picture of how Home Depot is navigating these challenges.\n",
    "\n",
    "**Weaknesses:**\n",
    "- **More Dense**: The wording can feel a bit more technical, which might make it harder for some audiences to follow.\n",
    "- **Less Emphasis on Narrative**: Compared to the PyPDFLoader version, this one is more data-driven, but it doesn’t weave the story of Home Depot’s performance and strategy as smoothly.\n",
    "\n",
    "### Overall Recommendation:\n",
    "- If your goal is to provide **straightforward, easily readable summaries** that are quick to digest, the **PyPDFLoader version** does a great job.\n",
    "- If you're aiming for a **data-rich, highly detailed financial summary** with stronger quantitative focus and clear predictions, the **Llamaparse version** excels.\n",
    "\n",
    "It depends on your audience and what level of detail they require!"
   ]
  }
 ],
 "metadata": {
  "kernelspec": {
   "display_name": "summarization_venv",
   "language": "python",
   "name": "python3"
  },
  "language_info": {
   "codemirror_mode": {
    "name": "ipython",
    "version": 3
   },
   "file_extension": ".py",
   "mimetype": "text/x-python",
   "name": "python",
   "nbconvert_exporter": "python",
   "pygments_lexer": "ipython3",
   "version": "3.12.4"
  }
 },
 "nbformat": 4,
 "nbformat_minor": 2
}
